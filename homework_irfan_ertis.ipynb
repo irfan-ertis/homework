{
 "cells": [
  {
   "cell_type": "code",
   "execution_count": 23,
   "metadata": {},
   "outputs": [
    {
     "name": "stdout",
     "output_type": "stream",
     "text": [
      "**************Student Management System**************\n"
     ]
    },
    {
     "name": "stdin",
     "output_type": "stream",
     "text": [
      "Please enter your name ty\n",
      "Please enter your surname y\n"
     ]
    },
    {
     "name": "stdout",
     "output_type": "stream",
     "text": [
      "Please try again! left 2 rights\n"
     ]
    },
    {
     "name": "stdin",
     "output_type": "stream",
     "text": [
      "Please enter your name y\n",
      "Please enter your surname y\n"
     ]
    },
    {
     "name": "stdout",
     "output_type": "stream",
     "text": [
      "Plesase try again! left 1 rights\n"
     ]
    },
    {
     "name": "stdin",
     "output_type": "stream",
     "text": [
      "Please enter your name yy\n",
      "Please enter your surname y\n"
     ]
    },
    {
     "name": "stdout",
     "output_type": "stream",
     "text": [
      "Please try again later!!\n"
     ]
    }
   ],
   "source": [
    "print(\"**************Student Management System**************\")\n",
    "\n",
    "\n",
    "students_name_list= [\"Ata\", \"Metin\", \"Merve\", \"Hande\"]\n",
    "students_surname_list= [\"Bot\", \"Hünerli\", \"Oz\", \"Sungur\"]\n",
    "\n",
    "student_name = input(\"Please enter your name\")\n",
    "student_surname = input (\"Please enter your surname\")\n",
    "\n",
    "if  any(student_name in s for s in students_name_list) and any(student_surname in s for s in students_surname_list) :\n",
    "    print(\"Welcome\")\n",
    "else:\n",
    "    print(\"Please try again! left 2 rights\")\n",
    "    \n",
    "student_name = input(\"Please enter your name\")\n",
    "student_surname = input (\"Please enter your surname\")\n",
    "\n",
    "if  any(student_name in s for s in students_name_list) and any(student_surname in s for s in students_surname_list) :\n",
    "    print(\"Welcome\")\n",
    "else:\n",
    "    print(\"Plesase try again! left 1 rights\")\n",
    "          \n",
    "student_name = input(\"Please enter your name\")\n",
    "student_surname = input (\"Please enter your surname\")\n",
    "\n",
    "if  any(student_name in s for s in students_name_list) and any(student_surname in s for s in students_surname_list) :\n",
    "    print(\"Welcome\")\n",
    "else:\n",
    "    print(\"Please try again later!!\")"
   ]
  },
  {
   "cell_type": "code",
   "execution_count": 77,
   "metadata": {},
   "outputs": [
    {
     "name": "stdout",
     "output_type": "stream",
     "text": [
      "Open Courses: ['M1', 'A1', 'D1', 'S1', 'C1']\n",
      "Please take min 3, max 5 courses\n"
     ]
    },
    {
     "name": "stdin",
     "output_type": "stream",
     "text": [
      "Please Select First Course:  A1\n",
      "Please Select Second Course:  D1\n",
      "Please Select Third Course:  S1\n"
     ]
    },
    {
     "name": "stdout",
     "output_type": "stream",
     "text": [
      "['A1', 'D1', 'S1', 'S1', 'S1']\n",
      "Choose one of the Course\n"
     ]
    },
    {
     "name": "stdin",
     "output_type": "stream",
     "text": [
      "Choose one of the course A1\n"
     ]
    }
   ],
   "source": [
    "course_list= [\"M1\", \"A1\", \"D1\", \"S1\", \"C1\"]\n",
    "print(\"Open Courses:\", course_list)\n",
    "print(\"Please take min 3, max 5 courses\")\n",
    "s_course_list = [];\n",
    "chosen= input(\"Please Select First Course: \")\n",
    "\n",
    "if chosen in course_list:\n",
    "     s_course_list.append(chosen);\n",
    "else:\n",
    "    print(\"Please select proper Course from the list\")\n",
    "chosen= input(\"Please Select Second Course: \")\n",
    "\n",
    "if chosen in course_list:\n",
    "     s_course_list.append(chosen);\n",
    "else:\n",
    "    print(\"Please select proper Course from the list\")\n",
    "    \n",
    "chosen= input(\"Please Select Third Course: \")\n",
    "\n",
    "if chosen in course_list:\n",
    "     s_course_list.append(chosen);\n",
    "else:\n",
    "    print(\"Please select proper Course from the list\") \n",
    "    \n",
    "if chosen in course_list:\n",
    "     s_course_list.append(chosen);\n",
    "elif not chosen in course_list:\n",
    "    print(Empty)\n",
    "else:\n",
    "    print(\"Please select proper Course from the list\")  \n",
    "    \n",
    "if chosen in course_list:\n",
    "     s_course_list.append(chosen);\n",
    "elif not chosen in course_list:\n",
    "    print(Empty)\n",
    "else:\n",
    "    print(\"Please select proper Course from the list\")    \n",
    "\n",
    "#print(s_course_list) hatalı oluyor return komutunu kullanamadım\n",
    "   \n",
    "if 3 <= len(s_course_list) <= 5:\n",
    "      print(\"Completed\")\n",
    "else:\n",
    "    print (\"You failed in class\")\n",
    "\n",
    "exam = input(\"Choose one of the course\")    "
   ]
  },
  {
   "cell_type": "code",
   "execution_count": 126,
   "metadata": {},
   "outputs": [
    {
     "name": "stdout",
     "output_type": "stream",
     "text": [
      "AA\n",
      "Student grade:  98\n"
     ]
    }
   ],
   "source": [
    "course_grades = {\"midterm\": 55, \"final\":78, \"project\": 90}\n",
    "\n",
    "\n",
    "midterm1 = course_grades[\"midterm\"] * 1.3\n",
    "final1  = course_grades[\"final\"] * 1.5 \n",
    "project1 = course_grades[\"project\"] * 1.2\n",
    "total_g = midterm1 + final1 + project1\n",
    "average_grade= int(total_g / 3)\n",
    "\n",
    "\n",
    "\n",
    "if average_grade> 90:\n",
    "    print(\"AA\")\n",
    "elif 70 < average_grade < 90: \n",
    "    print(\"BB\")\n",
    "elif 50 < average_grade < 70: \n",
    "    print(\"CC\")\n",
    "elif 30 < average_grade < 50:\n",
    "    print(\"DD\")\n",
    "else: \n",
    "    average_grade < 30\n",
    "    print(\"FF\")\n",
    "    \n",
    "print(\"Student grade: \", average_grade)"
   ]
  },
  {
   "cell_type": "code",
   "execution_count": null,
   "metadata": {},
   "outputs": [],
   "source": [
    "\n",
    "\n",
    " "
   ]
  },
  {
   "cell_type": "code",
   "execution_count": null,
   "metadata": {},
   "outputs": [],
   "source": []
  },
  {
   "cell_type": "code",
   "execution_count": null,
   "metadata": {},
   "outputs": [],
   "source": []
  }
 ],
 "metadata": {
  "kernelspec": {
   "display_name": "Python 3",
   "language": "python",
   "name": "python3"
  },
  "language_info": {
   "codemirror_mode": {
    "name": "ipython",
    "version": 3
   },
   "file_extension": ".py",
   "mimetype": "text/x-python",
   "name": "python",
   "nbconvert_exporter": "python",
   "pygments_lexer": "ipython3",
   "version": "3.9.0"
  }
 },
 "nbformat": 4,
 "nbformat_minor": 4
}
